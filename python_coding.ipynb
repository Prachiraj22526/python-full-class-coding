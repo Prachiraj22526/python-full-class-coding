{
  "nbformat": 4,
  "nbformat_minor": 0,
  "metadata": {
    "colab": {
      "provenance": [],
      "authorship_tag": "ABX9TyNxqTSy1FYaw0gnItlGHCfv",
      "include_colab_link": true
    },
    "kernelspec": {
      "name": "python3",
      "display_name": "Python 3"
    },
    "language_info": {
      "name": "python"
    }
  },
  "cells": [
    {
      "cell_type": "markdown",
      "metadata": {
        "id": "view-in-github",
        "colab_type": "text"
      },
      "source": [
        "<a href=\"https://colab.research.google.com/github/Prachiraj22526/python-full-class-coding/blob/main/python_coding.ipynb\" target=\"_parent\"><img src=\"https://colab.research.google.com/assets/colab-badge.svg\" alt=\"Open In Colab\"/></a>"
      ]
    },
    {
      "cell_type": "code",
      "execution_count": null,
      "metadata": {
        "colab": {
          "base_uri": "https://localhost:8080/"
        },
        "id": "imzPvNWLEi2a",
        "outputId": "b0c1cbf4-3c36-472c-ba9e-790eb6793f18"
      },
      "outputs": [
        {
          "output_type": "stream",
          "name": "stdout",
          "text": [
            "enter 1st no.:5\n",
            "enter 2nd no.:90\n",
            "enter 3rd no.:65\n",
            "the largest number is 90\n"
          ]
        }
      ],
      "source": [
        "a = int(input(\"enter 1st no.:\"))\n",
        "b = int(input(\"enter 2nd no.:\"))\n",
        "c = int(input(\"enter 3rd no.:\"))\n",
        "\n",
        "if (a>b) and (a>c):\n",
        "  largest = a\n",
        "elif (b>a)and (b>c):\n",
        "  largest = b\n",
        "else:\n",
        "  largest = c\n",
        "print(\"the largest number is\",largest)\n"
      ]
    },
    {
      "cell_type": "code",
      "source": [
        "even_sum = 0\n",
        "for num in range(1,51):\n",
        "  if num%2==0:\n",
        "    print(num)\n",
        "    even_sum = even_sum + num\n",
        "    print(\"the sum of all even number in the range 1-50 is:\",even_sum)"
      ],
      "metadata": {
        "colab": {
          "base_uri": "https://localhost:8080/"
        },
        "id": "PTouA12MF-Bi",
        "outputId": "2ef7b6d2-f400-4fb3-91a4-6565ee49bebe"
      },
      "execution_count": null,
      "outputs": [
        {
          "output_type": "stream",
          "name": "stdout",
          "text": [
            "2\n",
            "the sum of all even number in the range 1-50 is: 2\n",
            "4\n",
            "the sum of all even number in the range 1-50 is: 6\n",
            "6\n",
            "the sum of all even number in the range 1-50 is: 12\n",
            "8\n",
            "the sum of all even number in the range 1-50 is: 20\n",
            "10\n",
            "the sum of all even number in the range 1-50 is: 30\n",
            "12\n",
            "the sum of all even number in the range 1-50 is: 42\n",
            "14\n",
            "the sum of all even number in the range 1-50 is: 56\n",
            "16\n",
            "the sum of all even number in the range 1-50 is: 72\n",
            "18\n",
            "the sum of all even number in the range 1-50 is: 90\n",
            "20\n",
            "the sum of all even number in the range 1-50 is: 110\n",
            "22\n",
            "the sum of all even number in the range 1-50 is: 132\n",
            "24\n",
            "the sum of all even number in the range 1-50 is: 156\n",
            "26\n",
            "the sum of all even number in the range 1-50 is: 182\n",
            "28\n",
            "the sum of all even number in the range 1-50 is: 210\n",
            "30\n",
            "the sum of all even number in the range 1-50 is: 240\n",
            "32\n",
            "the sum of all even number in the range 1-50 is: 272\n",
            "34\n",
            "the sum of all even number in the range 1-50 is: 306\n",
            "36\n",
            "the sum of all even number in the range 1-50 is: 342\n",
            "38\n",
            "the sum of all even number in the range 1-50 is: 380\n",
            "40\n",
            "the sum of all even number in the range 1-50 is: 420\n",
            "42\n",
            "the sum of all even number in the range 1-50 is: 462\n",
            "44\n",
            "the sum of all even number in the range 1-50 is: 506\n",
            "46\n",
            "the sum of all even number in the range 1-50 is: 552\n",
            "48\n",
            "the sum of all even number in the range 1-50 is: 600\n",
            "50\n",
            "the sum of all even number in the range 1-50 is: 650\n"
          ]
        }
      ]
    },
    {
      "cell_type": "code",
      "source": [],
      "metadata": {
        "id": "kwYdKAUHpDBF"
      },
      "execution_count": null,
      "outputs": []
    },
    {
      "cell_type": "code",
      "source": [
        "lower = 20\n",
        "upper = 50\n",
        "print(\"prime numbers between\",lower,\"and\", upper, \"are:\")\n",
        "for num in range(lower,upper+1):\n",
        "  if num > 1:\n",
        "    for i in range(2,num):\n",
        "      if (num % i) == 0:\n",
        "        break\n",
        "    else:\n",
        "      print(num)"
      ],
      "metadata": {
        "colab": {
          "base_uri": "https://localhost:8080/"
        },
        "id": "15fN_2HLHnBA",
        "outputId": "87b08d24-d5f6-4345-d90c-0dcdc066aa04"
      },
      "execution_count": null,
      "outputs": [
        {
          "output_type": "stream",
          "name": "stdout",
          "text": [
            "prime numbers between 20 and 50 are:\n",
            "23\n",
            "29\n",
            "31\n",
            "37\n",
            "41\n",
            "43\n",
            "47\n"
          ]
        }
      ]
    },
    {
      "cell_type": "code",
      "source": [
        "a = int (input (\"enter 1st number:\"))\n",
        "b = int (input (\"enter 2nd number:\"))\n",
        "print(\"before swapping: a=\",a,\", b=\",b)\n",
        "a = a+b\n",
        "b = a-b\n",
        "a = a-b\n",
        "print(\"after swapping:a=\",a,\",b=\",b)\n"
      ],
      "metadata": {
        "colab": {
          "base_uri": "https://localhost:8080/"
        },
        "id": "1zc_NADwK0H8",
        "outputId": "8ba8a6ce-a2c2-4c9b-b61c-8c87e8307d2f"
      },
      "execution_count": null,
      "outputs": [
        {
          "output_type": "stream",
          "name": "stdout",
          "text": [
            "enter 1st number:4\n",
            "enter 2nd number:9\n",
            "before swapping: a= 4 , b= 9\n",
            "after swapping:a= 9 ,b= 4\n"
          ]
        }
      ]
    },
    {
      "cell_type": "code",
      "source": [
        "def name():\n",
        "  return \"Raj\",\"John\"\n",
        "print(name())\n",
        "name_1,name_2 = name()\n",
        "print(name_1,name_2)"
      ],
      "metadata": {
        "colab": {
          "base_uri": "https://localhost:8080/"
        },
        "id": "oEPtjxakOstl",
        "outputId": "daa17bba-d6bb-4d88-886d-7b8c6efeae7d"
      },
      "execution_count": null,
      "outputs": [
        {
          "output_type": "stream",
          "name": "stdout",
          "text": [
            "('Raj', 'John')\n",
            "Raj John\n"
          ]
        }
      ]
    },
    {
      "cell_type": "code",
      "source": [
        "def name():\n",
        "  n1 = \"Raj\"\n",
        "  n2 = \"John\"\n",
        "  return{1:n1,2:n2}\n",
        "names = name()\n",
        "print(names)"
      ],
      "metadata": {
        "colab": {
          "base_uri": "https://localhost:8080/"
        },
        "id": "jPT8H7YkP39c",
        "outputId": "c1b7284b-d7b4-4ef6-dcaa-126bfcbbc2ad"
      },
      "execution_count": null,
      "outputs": [
        {
          "output_type": "stream",
          "name": "stdout",
          "text": [
            "{1: 'Raj', 2: 'John'}\n"
          ]
        }
      ]
    },
    {
      "cell_type": "code",
      "source": [
        "a = int(input(\"enter the 1st number:\"))\n",
        "b = int(input(\"enter the 2nd number:\"))\n",
        "print(\"\\n numbers before swapping:\")\n",
        "print(\"first number:\",a)\n",
        "print(\"second number:\",b)\n",
        "(a,b) = (b,a)\n",
        "print(\"\\n numbers after swapping:\")\n",
        "print(\"first number:\",a)\n",
        "print(\"second number:\",b)"
      ],
      "metadata": {
        "colab": {
          "base_uri": "https://localhost:8080/"
        },
        "id": "OniVitY9pFAL",
        "outputId": "71ec1bd7-a962-4529-93b5-2ae6cf4eda15"
      },
      "execution_count": 24,
      "outputs": [
        {
          "output_type": "stream",
          "name": "stdout",
          "text": [
            "enter the 1st number:4\n",
            "enter the 2nd number:5\n",
            "\n",
            " numbers before swapping:\n",
            "first number: 4\n",
            "second number: 5\n",
            "\n",
            " numbers after swapping:\n",
            "first number: 5\n",
            "second number: 4\n"
          ]
        }
      ]
    }
  ]
}